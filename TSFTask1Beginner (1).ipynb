{
  "nbformat": 4,
  "nbformat_minor": 0,
  "metadata": {
    "colab": {
      "name": "TSFTask1Beginner.ipynb",
      "provenance": [],
      "collapsed_sections": []
    },
    "kernelspec": {
      "name": "python3",
      "display_name": "Python 3"
    }
  },
  "cells": [
    {
      "cell_type": "markdown",
      "metadata": {
        "id": "Gr0U4bqQpt2f"
      },
      "source": [
        "# **Linear Regression with Python Scikit Learn - Task 1**"
      ]
    },
    {
      "cell_type": "markdown",
      "metadata": {
        "id": "cKQ1b4mTpnyt"
      },
      "source": [
        "There are two types of supervised machine learning algorithms: Regression and classification. The former predicts continuous value outputs while the latter predicts discrete outputs. For instance, predicting the price of a house in dollars is a regression problem whereas predicting whether a tumor is malignant or benign is a classification problem."
      ]
    },
    {
      "cell_type": "markdown",
      "metadata": {
        "id": "Ox7jVuUuqNyb"
      },
      "source": [
        "The term \"linearity\" in algebra refers to a linear relationship between two or more variables. If we draw this relationship in a two dimensional space (between two variables, in this case), we get a straight line."
      ]
    },
    {
      "cell_type": "markdown",
      "metadata": {
        "id": "wgA2p5BkVbLJ"
      },
      "source": [
        "**TASK 1- Predict the percentage of an student based on the no. of study hours.**"
      ]
    },
    {
      "cell_type": "markdown",
      "metadata": {
        "id": "b8XgJ_lQqT3x"
      },
      "source": [
        "## **Simple Linear Regression**"
      ]
    },
    {
      "cell_type": "markdown",
      "metadata": {
        "id": "hdRfGaD8qZ2E"
      },
      "source": [
        "In this regression task we will predict the percentage of marks that a student is expected to score based upon the number of hours they studied. This is a simple linear regression task as it involves just two variables."
      ]
    },
    {
      "cell_type": "code",
      "metadata": {
        "id": "88Ohkr6UqC7T"
      },
      "source": [
        "# First, we need to import all libraries required in this notebook. \n",
        "import pandas as pd\n",
        "import numpy as np  \n",
        "import matplotlib.pyplot as plt  \n",
        "import seaborn as sns\n",
        "%matplotlib inline"
      ],
      "execution_count": 1,
      "outputs": []
    },
    {
      "cell_type": "code",
      "metadata": {
        "id": "T-WwHt23qlpb",
        "colab": {
          "base_uri": "https://localhost:8080/"
        },
        "outputId": "c3b2e9b8-8dc8-41a1-ace6-6bc07bb82e0b"
      },
      "source": [
        "# Reading data from the link provided and as it is in CSV format we can directly import it with the help of the Pandas Library.\n",
        "url = \"http://bit.ly/w-data\"\n",
        "data = pd.read_csv(url)\n",
        "print(\"Data is imported successfully\")\n",
        "#This print message is optional and I use it to make the code understandable to everyone."
      ],
      "execution_count": 2,
      "outputs": [
        {
          "output_type": "stream",
          "text": [
            "Data is imported successfully\n"
          ],
          "name": "stdout"
        }
      ]
    },
    {
      "cell_type": "code",
      "metadata": {
        "id": "pBnoFmSmq381",
        "colab": {
          "base_uri": "https://localhost:8080/",
          "height": 359
        },
        "outputId": "36a6263a-f239-48f5-c3e0-5858580c21d4"
      },
      "source": [
        "#Now, we need to have a look at the data which we imported. For that we can print the first 10 element rows of the data.\n",
        "data.head(10)"
      ],
      "execution_count": 3,
      "outputs": [
        {
          "output_type": "execute_result",
          "data": {
            "text/html": [
              "<div>\n",
              "<style scoped>\n",
              "    .dataframe tbody tr th:only-of-type {\n",
              "        vertical-align: middle;\n",
              "    }\n",
              "\n",
              "    .dataframe tbody tr th {\n",
              "        vertical-align: top;\n",
              "    }\n",
              "\n",
              "    .dataframe thead th {\n",
              "        text-align: right;\n",
              "    }\n",
              "</style>\n",
              "<table border=\"1\" class=\"dataframe\">\n",
              "  <thead>\n",
              "    <tr style=\"text-align: right;\">\n",
              "      <th></th>\n",
              "      <th>Hours</th>\n",
              "      <th>Scores</th>\n",
              "    </tr>\n",
              "  </thead>\n",
              "  <tbody>\n",
              "    <tr>\n",
              "      <th>0</th>\n",
              "      <td>2.5</td>\n",
              "      <td>21</td>\n",
              "    </tr>\n",
              "    <tr>\n",
              "      <th>1</th>\n",
              "      <td>5.1</td>\n",
              "      <td>47</td>\n",
              "    </tr>\n",
              "    <tr>\n",
              "      <th>2</th>\n",
              "      <td>3.2</td>\n",
              "      <td>27</td>\n",
              "    </tr>\n",
              "    <tr>\n",
              "      <th>3</th>\n",
              "      <td>8.5</td>\n",
              "      <td>75</td>\n",
              "    </tr>\n",
              "    <tr>\n",
              "      <th>4</th>\n",
              "      <td>3.5</td>\n",
              "      <td>30</td>\n",
              "    </tr>\n",
              "    <tr>\n",
              "      <th>5</th>\n",
              "      <td>1.5</td>\n",
              "      <td>20</td>\n",
              "    </tr>\n",
              "    <tr>\n",
              "      <th>6</th>\n",
              "      <td>9.2</td>\n",
              "      <td>88</td>\n",
              "    </tr>\n",
              "    <tr>\n",
              "      <th>7</th>\n",
              "      <td>5.5</td>\n",
              "      <td>60</td>\n",
              "    </tr>\n",
              "    <tr>\n",
              "      <th>8</th>\n",
              "      <td>8.3</td>\n",
              "      <td>81</td>\n",
              "    </tr>\n",
              "    <tr>\n",
              "      <th>9</th>\n",
              "      <td>2.7</td>\n",
              "      <td>25</td>\n",
              "    </tr>\n",
              "  </tbody>\n",
              "</table>\n",
              "</div>"
            ],
            "text/plain": [
              "   Hours  Scores\n",
              "0    2.5      21\n",
              "1    5.1      47\n",
              "2    3.2      27\n",
              "3    8.5      75\n",
              "4    3.5      30\n",
              "5    1.5      20\n",
              "6    9.2      88\n",
              "7    5.5      60\n",
              "8    8.3      81\n",
              "9    2.7      25"
            ]
          },
          "metadata": {
            "tags": []
          },
          "execution_count": 3
        }
      ]
    },
    {
      "cell_type": "markdown",
      "metadata": {
        "id": "U-1Zp1Dyrv04"
      },
      "source": [
        "Let's plot our data points on bar graph and see if we can find any relationship between the data. We can create the graph with the following code:"
      ]
    },
    {
      "cell_type": "code",
      "metadata": {
        "id": "62dx4GO5rjpB",
        "colab": {
          "base_uri": "https://localhost:8080/",
          "height": 279
        },
        "outputId": "895eae6b-2657-4834-fd0f-02c4b28d2e25"
      },
      "source": [
        "sns.barplot(y='Hours',x='Scores',data=data);"
      ],
      "execution_count": 4,
      "outputs": [
        {
          "output_type": "display_data",
          "data": {
            "image/png": "[encoded data removed]",
            "text/plain": [
              "<Figure size 432x288 with 1 Axes>"
            ]
          },
          "metadata": {
            "tags": [],
            "needs_background": "light"
          }
        }
      ]
    },
    {
      "cell_type": "markdown",
      "metadata": {
        "id": "tMxakNX8toMO"
      },
      "source": [
        "From the graph above, we can clearly see that there is a positive relation between the number of hours studied and percentage of score."
      ]
    },
    {
      "cell_type": "markdown",
      "metadata": {
        "id": "vGGnIW1qt-2k"
      },
      "source": [
        "## **Now, we need to prepare the data in input and output labels.**"
      ]
    },
    {
      "cell_type": "code",
      "metadata": {
        "id": "PUhiAaassagc"
      },
      "source": [
        "X = data.iloc[:, :-1].values  \n",
        "Y = data.iloc[:, 1].values  "
      ],
      "execution_count": 5,
      "outputs": []
    },
    {
      "cell_type": "markdown",
      "metadata": {
        "id": "lSkFQMDXuXXX"
      },
      "source": [
        "Now, we have to split the data in training and test sets and for that we use the train test splitter by Sci-kit learn."
      ]
    },
    {
      "cell_type": "code",
      "metadata": {
        "id": "ZbBoFLoVuR1H"
      },
      "source": [
        "from sklearn.model_selection import train_test_split  \n",
        "X_train, X_test, Y_train, Y_test = train_test_split(X, Y, test_size=0.2, random_state=0) "
      ],
      "execution_count": 6,
      "outputs": []
    },
    {
      "cell_type": "markdown",
      "metadata": {
        "id": "4PcixMQOvAC_"
      },
      "source": [
        "test_size= 0.2 means what we are splitting the data in 80/20 size where 80% of the data will be used in training and 20% in testing."
      ]
    },
    {
      "cell_type": "markdown",
      "metadata": {
        "id": "SRje_PMkvO9A"
      },
      "source": [
        "# Now, training the algorithm."
      ]
    },
    {
      "cell_type": "markdown",
      "metadata": {
        "id": "5xEHU8GEvZh6"
      },
      "source": [
        "We have split our data into training and testing sets, and now is finally the time to train our algorithm. "
      ]
    },
    {
      "cell_type": "code",
      "metadata": {
        "id": "BOvI1AtJu3Go",
        "colab": {
          "base_uri": "https://localhost:8080/"
        },
        "outputId": "834e71e8-87ae-4c22-8aa4-df7e77b9a799"
      },
      "source": [
        "from sklearn.linear_model import LinearRegression  \n",
        "regressor = LinearRegression()  \n",
        "regressor.fit(X_train, Y_train) \n",
        "\n",
        "print(\"Training is complete.\")"
      ],
      "execution_count": 7,
      "outputs": [
        {
          "output_type": "stream",
          "text": [
            "Training is complete.\n"
          ],
          "name": "stdout"
        }
      ]
    },
    {
      "cell_type": "markdown",
      "metadata": {
        "id": "JJQ4P3Nfvh09"
      },
      "source": [
        "We used Linear Regression Algorithm for training the model."
      ]
    },
    {
      "cell_type": "code",
      "metadata": {
        "id": "5S4iwWitvdmz",
        "colab": {
          "base_uri": "https://localhost:8080/",
          "height": 265
        },
        "outputId": "6c549dfe-03d0-4743-d070-1d9f049f6337"
      },
      "source": [
        "# Plotting the regression line which will tell us the approx results for our model.\n",
        "line = regressor.coef_*X+regressor.intercept_\n",
        "\n",
        "# Plotting for the test data\n",
        "plt.scatter(X, Y)\n",
        "plt.plot(X, line);\n",
        "plt.show()"
      ],
      "execution_count": 8,
      "outputs": [
        {
          "output_type": "display_data",
          "data": {
            "image/png": "[encoded data removed]",
            "text/plain": [
              "<Figure size 432x288 with 1 Axes>"
            ]
          },
          "metadata": {
            "tags": [],
            "needs_background": "light"
          }
        }
      ]
    },
    {
      "cell_type": "markdown",
      "metadata": {
        "id": "Cp5v-3i1v62E"
      },
      "source": [
        "The closer the values, the better is the model."
      ]
    },
    {
      "cell_type": "markdown",
      "metadata": {
        "id": "OBclL_vAwNWz"
      },
      "source": [
        "# **Now, as we have trained the model, it's time for some predictions.**"
      ]
    },
    {
      "cell_type": "code",
      "metadata": {
        "id": "SkzexOAtv2lY",
        "colab": {
          "base_uri": "https://localhost:8080/"
        },
        "outputId": "abe41b08-b793-46e7-fe86-05832a0d2bd4"
      },
      "source": [
        "print(X_test) # Testing data - In Hours\n",
        "Y_pred = regressor.predict(X_test) # Predicting the scores"
      ],
      "execution_count": 9,
      "outputs": [
        {
          "output_type": "stream",
          "text": [
            "[[1.5]\n",
            " [3.2]\n",
            " [7.4]\n",
            " [2.5]\n",
            " [5.9]]\n"
          ],
          "name": "stdout"
        }
      ]
    },
    {
      "cell_type": "code",
      "metadata": {
        "id": "ptU4BMBgwZK9",
        "colab": {
          "base_uri": "https://localhost:8080/",
          "height": 204
        },
        "outputId": "40705417-9d08-4663-c1f5-fd2c9e4253d1"
      },
      "source": [
        "# Comparing Actual vs Predicted score\n",
        "df = pd.DataFrame({'Actual': Y_test, 'Predicted': Y_pred})  \n",
        "df "
      ],
      "execution_count": 10,
      "outputs": [
        {
          "output_type": "execute_result",
          "data": {
            "text/html": [
              "<div>\n",
              "<style scoped>\n",
              "    .dataframe tbody tr th:only-of-type {\n",
              "        vertical-align: middle;\n",
              "    }\n",
              "\n",
              "    .dataframe tbody tr th {\n",
              "        vertical-align: top;\n",
              "    }\n",
              "\n",
              "    .dataframe thead th {\n",
              "        text-align: right;\n",
              "    }\n",
              "</style>\n",
              "<table border=\"1\" class=\"dataframe\">\n",
              "  <thead>\n",
              "    <tr style=\"text-align: right;\">\n",
              "      <th></th>\n",
              "      <th>Actual</th>\n",
              "      <th>Predicted</th>\n",
              "    </tr>\n",
              "  </thead>\n",
              "  <tbody>\n",
              "    <tr>\n",
              "      <th>0</th>\n",
              "      <td>20</td>\n",
              "      <td>16.884145</td>\n",
              "    </tr>\n",
              "    <tr>\n",
              "      <th>1</th>\n",
              "      <td>27</td>\n",
              "      <td>33.732261</td>\n",
              "    </tr>\n",
              "    <tr>\n",
              "      <th>2</th>\n",
              "      <td>69</td>\n",
              "      <td>75.357018</td>\n",
              "    </tr>\n",
              "    <tr>\n",
              "      <th>3</th>\n",
              "      <td>30</td>\n",
              "      <td>26.794801</td>\n",
              "    </tr>\n",
              "    <tr>\n",
              "      <th>4</th>\n",
              "      <td>62</td>\n",
              "      <td>60.491033</td>\n",
              "    </tr>\n",
              "  </tbody>\n",
              "</table>\n",
              "</div>"
            ],
            "text/plain": [
              "   Actual  Predicted\n",
              "0      20  16.884145\n",
              "1      27  33.732261\n",
              "2      69  75.357018\n",
              "3      30  26.794801\n",
              "4      62  60.491033"
            ]
          },
          "metadata": {
            "tags": []
          },
          "execution_count": 10
        }
      ]
    },
    {
      "cell_type": "markdown",
      "metadata": {
        "id": "AXLYcz5Gwu59"
      },
      "source": [
        "Now, we can see that the predicted values are close or kind of similar to our actual values. Hence we can say that predictions are true for this small piece of data. We can evaulate our model\n"
      ]
    },
    {
      "cell_type": "code",
      "metadata": {
        "id": "LsiMfjtxwoEa",
        "colab": {
          "base_uri": "https://localhost:8080/"
        },
        "outputId": "4c7a49dd-ba9c-49b2-b9d1-7296493dfa7b"
      },
      "source": [
        "from sklearn import metrics  \n",
        "print('Mean Absolute Error:', metrics.mean_absolute_error(Y_test, Y_pred)) "
      ],
      "execution_count": 11,
      "outputs": [
        {
          "output_type": "stream",
          "text": [
            "Mean Absolute Error: 4.183859899002982\n"
          ],
          "name": "stdout"
        }
      ]
    },
    {
      "cell_type": "code",
      "metadata": {
        "id": "4e8ULY5T32Lo",
        "colab": {
          "base_uri": "https://localhost:8080/"
        },
        "outputId": "44b6d3c2-a525-4a8a-f213-5e68382e6def"
      },
      "source": [
        "#Let's check the accuracy of our model. For that we need to check it on the data that is unknown i.e test data.\n",
        "regressor.score(X_test, Y_test)"
      ],
      "execution_count": 12,
      "outputs": [
        {
          "output_type": "execute_result",
          "data": {
            "text/plain": [
              "0.9454906892105354"
            ]
          },
          "metadata": {
            "tags": []
          },
          "execution_count": 12
        }
      ]
    },
    {
      "cell_type": "markdown",
      "metadata": {
        "id": "fa3XafRz4AFy"
      },
      "source": [
        "Since, our model gives a score of 0.945. It means that we have an accuracy of 94.5% which is okay..."
      ]
    },
    {
      "cell_type": "code",
      "metadata": {
        "id": "CTBvczhBxOOj",
        "colab": {
          "base_uri": "https://localhost:8080/"
        },
        "outputId": "6cc6b76d-ed12-4a8d-b0cd-222eda9ec0ba"
      },
      "source": [
        "#Now we need a prediction for if a student studies for 9.25 hours as per the given task.\n",
        "hours = 9.25\n",
        "predicted_score = regressor.predict((np.array(hours).reshape(1,1)))\n",
        "print(\"No of Hours = {}\".format(hours))\n",
        "print(\"Predicted Score = {}\".format(predicted_score[0]))"
      ],
      "execution_count": 14,
      "outputs": [
        {
          "output_type": "stream",
          "text": [
            "No of Hours = 9.25\n",
            "Predicted Score = 93.69173248737539\n"
          ],
          "name": "stdout"
        }
      ]
    },
    {
      "cell_type": "code",
      "metadata": {
        "id": "mE1BESnRzhC5"
      },
      "source": [
        ""
      ],
      "execution_count": null,
      "outputs": []
    }
  ]
}